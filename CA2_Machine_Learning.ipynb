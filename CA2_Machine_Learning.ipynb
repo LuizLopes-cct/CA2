{
 "cells": [
  {
   "cell_type": "markdown",
   "id": "b02fd901",
   "metadata": {},
   "source": [
    "# Machine Learning"
   ]
  },
  {
   "cell_type": "markdown",
   "id": "af7e995d",
   "metadata": {},
   "source": [
    "Importing Variables"
   ]
  },
  {
   "cell_type": "code",
   "execution_count": 28,
   "id": "a4df0294",
   "metadata": {},
   "outputs": [],
   "source": [
    "import numpy as np\n",
    "import matplotlib.pyplot as plt\n",
    "import matplotlib.image as mpimg\n",
    "import pandas as pd\n",
    "import seaborn as sns\n",
    "import datetime\n",
    "import sklearn\n",
    "from scipy import stats\n",
    "from sklearn.model_selection import train_test_split\n",
    "from sklearn.linear_model import LinearRegression\n",
    "from sklearn.preprocessing import StandardScaler\n",
    "from sklearn.linear_model import Ridge\n",
    "from sklearn.linear_model import Lasso\n",
    "from sklearn.linear_model import LogisticRegression\n",
    "from sklearn.pipeline import make_pipeline\n",
    "from sklearn.preprocessing import PolynomialFeatures\n",
    "from sklearn.model_selection import GridSearchCV\n",
    "from sklearn.preprocessing import MinMaxScaler"
   ]
  },
  {
   "cell_type": "markdown",
   "id": "0a5a40aa",
   "metadata": {},
   "source": [
    "Import Dataframe"
   ]
  },
  {
   "cell_type": "code",
   "execution_count": 2,
   "id": "d0357823",
   "metadata": {},
   "outputs": [],
   "source": [
    "df = pd.read_csv('df_main.csv')"
   ]
  },
  {
   "cell_type": "code",
   "execution_count": 3,
   "id": "4df42f99",
   "metadata": {
    "scrolled": true
   },
   "outputs": [
    {
     "data": {
      "text/html": [
       "<div>\n",
       "<style scoped>\n",
       "    .dataframe tbody tr th:only-of-type {\n",
       "        vertical-align: middle;\n",
       "    }\n",
       "\n",
       "    .dataframe tbody tr th {\n",
       "        vertical-align: top;\n",
       "    }\n",
       "\n",
       "    .dataframe thead th {\n",
       "        text-align: right;\n",
       "    }\n",
       "</style>\n",
       "<table border=\"1\" class=\"dataframe\">\n",
       "  <thead>\n",
       "    <tr style=\"text-align: right;\">\n",
       "      <th></th>\n",
       "      <th>Area</th>\n",
       "      <th>Item</th>\n",
       "      <th>Year</th>\n",
       "      <th>Export Quantity</th>\n",
       "      <th>Export Value</th>\n",
       "      <th>Import Quantity</th>\n",
       "      <th>Import Value</th>\n",
       "      <th>Export Unit Price (USD)</th>\n",
       "      <th>import Unit Price (USD)</th>\n",
       "    </tr>\n",
       "  </thead>\n",
       "  <tbody>\n",
       "    <tr>\n",
       "      <th>0</th>\n",
       "      <td>Belgium</td>\n",
       "      <td>Mushrooms and truffles</td>\n",
       "      <td>2000</td>\n",
       "      <td>23198.0</td>\n",
       "      <td>34246.0</td>\n",
       "      <td>5252.0</td>\n",
       "      <td>11328.0</td>\n",
       "      <td>1476.247952</td>\n",
       "      <td>2156.892612</td>\n",
       "    </tr>\n",
       "    <tr>\n",
       "      <th>1</th>\n",
       "      <td>Belgium</td>\n",
       "      <td>Mushrooms and truffles</td>\n",
       "      <td>2001</td>\n",
       "      <td>29201.0</td>\n",
       "      <td>37788.0</td>\n",
       "      <td>7135.0</td>\n",
       "      <td>15176.0</td>\n",
       "      <td>1294.065272</td>\n",
       "      <td>2126.979678</td>\n",
       "    </tr>\n",
       "    <tr>\n",
       "      <th>2</th>\n",
       "      <td>Belgium</td>\n",
       "      <td>Mushrooms and truffles</td>\n",
       "      <td>2002</td>\n",
       "      <td>28034.0</td>\n",
       "      <td>41794.0</td>\n",
       "      <td>6116.0</td>\n",
       "      <td>15633.0</td>\n",
       "      <td>1490.832560</td>\n",
       "      <td>2556.082407</td>\n",
       "    </tr>\n",
       "    <tr>\n",
       "      <th>3</th>\n",
       "      <td>Belgium</td>\n",
       "      <td>Mushrooms and truffles</td>\n",
       "      <td>2003</td>\n",
       "      <td>25688.0</td>\n",
       "      <td>45242.0</td>\n",
       "      <td>11474.0</td>\n",
       "      <td>22121.0</td>\n",
       "      <td>1761.211461</td>\n",
       "      <td>1927.924002</td>\n",
       "    </tr>\n",
       "    <tr>\n",
       "      <th>4</th>\n",
       "      <td>Belgium</td>\n",
       "      <td>Mushrooms and truffles</td>\n",
       "      <td>2004</td>\n",
       "      <td>28234.0</td>\n",
       "      <td>57678.0</td>\n",
       "      <td>17494.0</td>\n",
       "      <td>27910.0</td>\n",
       "      <td>2042.856131</td>\n",
       "      <td>1595.404139</td>\n",
       "    </tr>\n",
       "  </tbody>\n",
       "</table>\n",
       "</div>"
      ],
      "text/plain": [
       "      Area                    Item  Year  Export Quantity  Export Value  \\\n",
       "0  Belgium  Mushrooms and truffles  2000          23198.0       34246.0   \n",
       "1  Belgium  Mushrooms and truffles  2001          29201.0       37788.0   \n",
       "2  Belgium  Mushrooms and truffles  2002          28034.0       41794.0   \n",
       "3  Belgium  Mushrooms and truffles  2003          25688.0       45242.0   \n",
       "4  Belgium  Mushrooms and truffles  2004          28234.0       57678.0   \n",
       "\n",
       "   Import Quantity  Import Value  Export Unit Price (USD)  \\\n",
       "0           5252.0       11328.0              1476.247952   \n",
       "1           7135.0       15176.0              1294.065272   \n",
       "2           6116.0       15633.0              1490.832560   \n",
       "3          11474.0       22121.0              1761.211461   \n",
       "4          17494.0       27910.0              2042.856131   \n",
       "\n",
       "   import Unit Price (USD)  \n",
       "0              2156.892612  \n",
       "1              2126.979678  \n",
       "2              2556.082407  \n",
       "3              1927.924002  \n",
       "4              1595.404139  "
      ]
     },
     "execution_count": 3,
     "metadata": {},
     "output_type": "execute_result"
    }
   ],
   "source": [
    "df.head()"
   ]
  },
  {
   "cell_type": "markdown",
   "id": "104a87a2",
   "metadata": {},
   "source": [
    "Separating the data per country"
   ]
  },
  {
   "cell_type": "code",
   "execution_count": 6,
   "id": "2a13be42",
   "metadata": {},
   "outputs": [],
   "source": [
    "Ireland = df.loc[df['Area']== 'Ireland']\n",
    "Netherlands = df.loc[df['Area']== 'Netherlands']\n",
    "Belgium = df.loc[df['Area']== 'Belgium']"
   ]
  },
  {
   "cell_type": "code",
   "execution_count": 22,
   "id": "6046b271",
   "metadata": {},
   "outputs": [],
   "source": [
    "eprice = 'Export Unit Price (USD)'\n",
    "\n",
    "def title(title):\n",
    "    plt.title(f'{title}', fontdict={'fontsize':18},    pad=14);"
   ]
  },
  {
   "cell_type": "markdown",
   "id": "9a1da815",
   "metadata": {},
   "source": [
    "Line plot"
   ]
  },
  {
   "cell_type": "code",
   "execution_count": 27,
   "id": "ae0c1c71",
   "metadata": {},
   "outputs": [
    {
     "data": {
      "image/png": "[encoded data removed]",
      "text/plain": [
       "<Figure size 432x288 with 1 Axes>"
      ]
     },
     "metadata": {
      "needs_background": "light"
     },
     "output_type": "display_data"
    }
   ],
   "source": [
    "sns.lineplot(data = df, x = 'Year', y = eprice);\n",
    "title('Export Unit price (USD)')"
   ]
  },
  {
   "cell_type": "code",
   "execution_count": 26,
   "id": "0be7f89b",
   "metadata": {},
   "outputs": [
    {
     "data": {
      "image/png": "[encoded data removed]",
      "text/plain": [
       "<Figure size 432x288 with 1 Axes>"
      ]
     },
     "metadata": {
      "needs_background": "light"
     },
     "output_type": "display_data"
    }
   ],
   "source": [
    "sns.regplot(x=\"Year\", y=eprice, data=df, fit_reg=False)\n",
    "title('Export Unit price (USD)')"
   ]
  },
  {
   "cell_type": "markdown",
   "id": "b71a290c",
   "metadata": {},
   "source": [
    "I want to predict the Export Unit price in USD based on my Sample data, for this I will be using a series of predictive models"
   ]
  },
  {
   "cell_type": "markdown",
   "id": "dbe0f6d9",
   "metadata": {},
   "source": [
    "#### Linear Regression"
   ]
  },
  {
   "cell_type": "code",
   "execution_count": 34,
   "id": "46a4153e",
   "metadata": {},
   "outputs": [],
   "source": [
    "X = df['Year']\n",
    "y = df[eprice]"
   ]
  },
  {
   "cell_type": "code",
   "execution_count": 31,
   "id": "7f750de7",
   "metadata": {
    "scrolled": true
   },
   "outputs": [
    {
     "data": {
      "image/png": "[encoded data removed]",
      "text/plain": [
       "<Figure size 432x288 with 1 Axes>"
      ]
     },
     "metadata": {
      "needs_background": "light"
     },
     "output_type": "display_data"
    }
   ],
   "source": [
    "slope, intercept, r, p, std_err = stats.linregress(X, y)\n",
    "\n",
    "def myfunc(x):\n",
    "  return slope * x + intercept\n",
    "\n",
    "mymodel = list(map(myfunc, X))\n",
    "\n",
    "plt.scatter(X, y)\n",
    "plt.plot(X, mymodel)\n",
    "title(f'{eprice} - Linear Regression');\n",
    "plt.show()"
   ]
  },
  {
   "cell_type": "code",
   "execution_count": 35,
   "id": "61829ea1",
   "metadata": {},
   "outputs": [],
   "source": [
    "X1 = Ireland['Year']\n",
    "y1 = Ireland[eprice]"
   ]
  },
  {
   "cell_type": "code",
   "execution_count": 37,
   "id": "3f85ce94",
   "metadata": {},
   "outputs": [
    {
     "data": {
      "image/png": "[encoded data removed]",
      "text/plain": [
       "<Figure size 432x288 with 1 Axes>"
      ]
     },
     "metadata": {
      "needs_background": "light"
     },
     "output_type": "display_data"
    }
   ],
   "source": [
    "slope, intercept, r, p, std_err = stats.linregress(X1, y1)\n",
    "\n",
    "def myfunc(x):\n",
    "  return slope * x + intercept\n",
    "\n",
    "mymodel = list(map(myfunc, X1))\n",
    "\n",
    "plt.scatter(X1, y1)\n",
    "plt.plot(X1, mymodel)\n",
    "title(f'Ireland {eprice} - Linear Regression');\n",
    "plt.show()"
   ]
  },
  {
   "cell_type": "markdown",
   "id": "34e3e9a8",
   "metadata": {},
   "source": [
    "#### Polinomial Regression"
   ]
  },
  {
   "cell_type": "code",
   "execution_count": 42,
   "id": "5d1a59f7",
   "metadata": {},
   "outputs": [
    {
     "data": {
      "image/png": "[encoded data removed]",
      "text/plain": [
       "<Figure size 432x288 with 1 Axes>"
      ]
     },
     "metadata": {
      "needs_background": "light"
     },
     "output_type": "display_data"
    }
   ],
   "source": [
    "polymodel = np.poly1d(np.polyfit(X, y, 3))\n",
    "\n",
    "polyline = np.linspace(2000, 2021, 100)\n",
    "\n",
    "plt.scatter(X, y)\n",
    "plt.plot(polyline, polymodel(polyline))\n",
    "title(f'{eprice} - Polinomial Regression');\n",
    "plt.show()"
   ]
  },
  {
   "cell_type": "code",
   "execution_count": 43,
   "id": "41e7c9fc",
   "metadata": {},
   "outputs": [
    {
     "data": {
      "image/png": "[encoded data removed]",
      "text/plain": [
       "<Figure size 432x288 with 1 Axes>"
      ]
     },
     "metadata": {
      "needs_background": "light"
     },
     "output_type": "display_data"
    }
   ],
   "source": [
    "polymodel = np.poly1d(np.polyfit(X1, y1, 3))\n",
    "\n",
    "polyline = np.linspace(2000, 2021, 100)\n",
    "\n",
    "plt.scatter(X1, y1)\n",
    "plt.plot(polyline, polymodel(polyline))\n",
    "title(f'Ireland {eprice} - Polinomial Regression');\n",
    "plt.show()"
   ]
  },
  {
   "cell_type": "markdown",
   "id": "6aebf345",
   "metadata": {},
   "source": [
    "#### Preparing the data for the models"
   ]
  },
  {
   "cell_type": "code",
   "execution_count": 91,
   "id": "b582cf9c",
   "metadata": {},
   "outputs": [],
   "source": [
    "X_train, X_test, y_train, y_test = train_test_split(X, y, test_size = 0.20, random_state = 42)\n",
    "X1_train, X1_test, y1_train, y1_test = train_test_split(X1, y1, test_size = 0.20, random_state = 42)"
   ]
  },
  {
   "cell_type": "code",
   "execution_count": 48,
   "id": "0d9e8142",
   "metadata": {},
   "outputs": [],
   "source": [
    "# X_train, X_test, y_train, y_test"
   ]
  },
  {
   "cell_type": "code",
   "execution_count": 49,
   "id": "80aaee99",
   "metadata": {},
   "outputs": [],
   "source": [
    "# X1_train, X1_test, y1_train, y1_test"
   ]
  },
  {
   "cell_type": "code",
   "execution_count": 92,
   "id": "59e9da2c",
   "metadata": {},
   "outputs": [],
   "source": [
    "X_train = X_train.array.reshape(-1, 1)\n",
    "X_test = X_test.array.reshape(-1, 1)"
   ]
  },
  {
   "cell_type": "code",
   "execution_count": 63,
   "id": "e50beec6",
   "metadata": {},
   "outputs": [],
   "source": [
    "X1_train = X1_train.array.reshape(-1, 1)\n",
    "X1_test = X1_test.array.reshape(-1, 1)"
   ]
  },
  {
   "cell_type": "code",
   "execution_count": 93,
   "id": "a08d4a88",
   "metadata": {},
   "outputs": [],
   "source": [
    "sc = StandardScaler()\n",
    "X_train = sc.fit_transform(X_train)\n",
    "X_test = sc.transform(X_test)"
   ]
  },
  {
   "cell_type": "code",
   "execution_count": 64,
   "id": "fe95f499",
   "metadata": {},
   "outputs": [],
   "source": [
    "X1_train = sc.fit_transform(X1_train)\n",
    "X1_test = sc.transform(X1_test)"
   ]
  },
  {
   "cell_type": "markdown",
   "id": "4438ae30",
   "metadata": {},
   "source": [
    "#### Linear Regression model - all"
   ]
  },
  {
   "cell_type": "code",
   "execution_count": 60,
   "id": "f5bd7227",
   "metadata": {},
   "outputs": [],
   "source": [
    "lr = LinearRegression().fit(X_train, y_train);"
   ]
  },
  {
   "cell_type": "markdown",
   "id": "34de43a2",
   "metadata": {},
   "source": [
    "Display the coefficient and intercept values"
   ]
  },
  {
   "cell_type": "code",
   "execution_count": 61,
   "id": "47dc9682",
   "metadata": {},
   "outputs": [
    {
     "name": "stdout",
     "output_type": "stream",
     "text": [
      "lr.coef_: [263.60698232]\n",
      "lr.intercept_: 2680.503129033382\n"
     ]
    }
   ],
   "source": [
    "print(\"lr.coef_: {}\".format(lr.coef_))\n",
    "print(\"lr.intercept_: {}\".format(lr.intercept_))"
   ]
  },
  {
   "cell_type": "markdown",
   "id": "f73ce6a5",
   "metadata": {},
   "source": [
    "Display the score values by calling lr"
   ]
  },
  {
   "cell_type": "code",
   "execution_count": 62,
   "id": "4798ec5d",
   "metadata": {},
   "outputs": [
    {
     "name": "stdout",
     "output_type": "stream",
     "text": [
      "Training set score: 0.21\n",
      "Test set score: 0.60\n"
     ]
    }
   ],
   "source": [
    "print(\"Training set score: {:.2f}\".format(lr.score(X_train, y_train)))\n",
    "print(\"Test set score: {:.2f}\".format(lr.score(X_test, y_test)))"
   ]
  },
  {
   "cell_type": "markdown",
   "id": "02580c56",
   "metadata": {},
   "source": [
    "#### Linear Regression model - Ireland"
   ]
  },
  {
   "cell_type": "code",
   "execution_count": 65,
   "id": "fc4bd10e",
   "metadata": {},
   "outputs": [],
   "source": [
    "lr1 = LinearRegression().fit(X1_train, y1_train);"
   ]
  },
  {
   "cell_type": "code",
   "execution_count": 66,
   "id": "53178581",
   "metadata": {},
   "outputs": [
    {
     "name": "stdout",
     "output_type": "stream",
     "text": [
      "lr.coef_: [244.07376433]\n",
      "lr.intercept_: 3054.942389752898\n"
     ]
    }
   ],
   "source": [
    "print(\"lr.coef_: {}\".format(lr1.coef_))\n",
    "print(\"lr.intercept_: {}\".format(lr1.intercept_))"
   ]
  },
  {
   "cell_type": "code",
   "execution_count": 67,
   "id": "9d5bea01",
   "metadata": {},
   "outputs": [
    {
     "name": "stdout",
     "output_type": "stream",
     "text": [
      "Training set score: 0.24\n",
      "Test set score: 0.44\n"
     ]
    }
   ],
   "source": [
    "print(\"Training set score: {:.2f}\".format(lr1.score(X1_train, y1_train)))\n",
    "print(\"Test set score: {:.2f}\".format(lr1.score(X1_test, y1_test)))"
   ]
  },
  {
   "cell_type": "markdown",
   "id": "0ffefd68",
   "metadata": {},
   "source": [
    "#### Polinomial Regression - all"
   ]
  },
  {
   "cell_type": "code",
   "execution_count": 68,
   "id": "d9645b6e",
   "metadata": {},
   "outputs": [],
   "source": [
    "# fit multiple polynomial features\n",
    "degrees = [1, 2, 3, 6, 10, 20]\n",
    "\n",
    "# initialise y_train_pred and y_test_pred matrices to store the train and test predictions\n",
    "# each row is a data point, each column a prediction using a polynomial of some degree\n",
    "y_train_pred = np.zeros((len(X_train), len(degrees)))\n",
    "y_test_pred = np.zeros((len(X_test), len(degrees)))\n",
    "\n",
    "for i, degree in enumerate(degrees):\n",
    "    \n",
    "    # make pipeline: create features, then feed them to linear_reg model\n",
    "    model = make_pipeline(PolynomialFeatures(degree), LinearRegression())\n",
    "    model.fit(X_train, y_train)\n",
    "    \n",
    "    # predict on test and train data\n",
    "    # store the predictions of each degree in the corresponding column\n",
    "    y_train_pred[:, i] = model.predict(X_train)\n",
    "    y_test_pred[:, i] = model.predict(X_test)"
   ]
  },
  {
   "cell_type": "code",
   "execution_count": 69,
   "id": "8190bf9b",
   "metadata": {},
   "outputs": [
    {
     "data": {
      "image/png": "[encoded data removed]",
      "text/plain": [
       "<Figure size 1152x576 with 2 Axes>"
      ]
     },
     "metadata": {
      "needs_background": "light"
     },
     "output_type": "display_data"
    }
   ],
   "source": [
    "# visualise train and test predictions\n",
    "# note that the y axis is on a log scale\n",
    "\n",
    "plt.figure(figsize=(16, 8))\n",
    "\n",
    "# train data\n",
    "plt.subplot(121)\n",
    "plt.scatter(X_train, y_train)\n",
    "plt.yscale('log')\n",
    "title(\"Train data - All\")\n",
    "for i, degree in enumerate(degrees):    \n",
    "    plt.scatter(X_train, y_train_pred[:, i], s=15, label=str(degree))\n",
    "    plt.legend(loc='upper left')\n",
    "    \n",
    "# test data\n",
    "plt.subplot(122)\n",
    "plt.scatter(X_test, y_test)\n",
    "plt.yscale('log')\n",
    "title(\"Test data - All\")\n",
    "for i, degree in enumerate(degrees):    \n",
    "    plt.scatter(X_test, y_test_pred[:, i], label=str(degree))\n",
    "    plt.legend(loc='upper left')"
   ]
  },
  {
   "cell_type": "code",
   "execution_count": 70,
   "id": "037797fa",
   "metadata": {},
   "outputs": [
    {
     "name": "stdout",
     "output_type": "stream",
     "text": [
      "R-squared values: \n",
      "\n",
      "Polynomial degree 1: train score=0.21, test score=0.6\n",
      "Polynomial degree 2: train score=0.32, test score=0.74\n",
      "Polynomial degree 3: train score=0.35, test score=0.73\n",
      "Polynomial degree 6: train score=0.43, test score=0.53\n",
      "Polynomial degree 10: train score=0.46, test score=0.32\n",
      "Polynomial degree 20: train score=0.52, test score=0.04\n"
     ]
    }
   ],
   "source": [
    "# compare r2 for train and test sets (for all polynomial fits)\n",
    "print(\"R-squared values: \\n\")\n",
    "\n",
    "for i, degree in enumerate(degrees):\n",
    "    train_r2 = round(sklearn.metrics.r2_score(y_train, y_train_pred[:, i]), 2)\n",
    "    test_r2 = round(sklearn.metrics.r2_score(y_test, y_test_pred[:, i]), 2)\n",
    "    print(\"Polynomial degree {0}: train score={1}, test score={2}\".format(degree, \n",
    "                                                                         train_r2, \n",
    "                                                                         test_r2))"
   ]
  },
  {
   "cell_type": "markdown",
   "id": "4a1192c6",
   "metadata": {},
   "source": [
    "#### Polinomial Regression - Ireland"
   ]
  },
  {
   "cell_type": "code",
   "execution_count": 71,
   "id": "40220667",
   "metadata": {},
   "outputs": [],
   "source": [
    "# fit multiple polynomial features\n",
    "degrees = [1, 2, 3, 6, 10, 20]\n",
    "\n",
    "# initialise y_train_pred and y_test_pred matrices to store the train and test predictions\n",
    "# each row is a data point, each column a prediction using a polynomial of some degree\n",
    "y1_train_pred = np.zeros((len(X1_train), len(degrees)))\n",
    "y1_test_pred = np.zeros((len(X1_test), len(degrees)))\n",
    "\n",
    "for i, degree in enumerate(degrees):\n",
    "    \n",
    "    # make pipeline: create features, then feed them to linear_reg model\n",
    "    model = make_pipeline(PolynomialFeatures(degree), LinearRegression())\n",
    "    model.fit(X1_train, y1_train)\n",
    "    \n",
    "    # predict on test and train data\n",
    "    # store the predictions of each degree in the corresponding column\n",
    "    y1_train_pred[:, i] = model.predict(X1_train)\n",
    "    y1_test_pred[:, i] = model.predict(X1_test)"
   ]
  },
  {
   "cell_type": "code",
   "execution_count": 72,
   "id": "038cefc1",
   "metadata": {},
   "outputs": [
    {
     "data": {
      "image/png": "[encoded data removed]",
      "text/plain": [
       "<Figure size 1152x576 with 2 Axes>"
      ]
     },
     "metadata": {
      "needs_background": "light"
     },
     "output_type": "display_data"
    }
   ],
   "source": [
    "# visualise train and test predictions\n",
    "# note that the y axis is on a log scale\n",
    "\n",
    "plt.figure(figsize=(16, 8))\n",
    "\n",
    "# train data\n",
    "plt.subplot(121)\n",
    "plt.scatter(X1_train, y1_train)\n",
    "plt.yscale('log')\n",
    "title(\"Train data - Ireland\")\n",
    "for i, degree in enumerate(degrees):    \n",
    "    plt.scatter(X1_train, y1_train_pred[:, i], s=15, label=str(degree))\n",
    "    plt.legend(loc='upper left')\n",
    "    \n",
    "# test data\n",
    "plt.subplot(122)\n",
    "plt.scatter(X1_test, y1_test)\n",
    "plt.yscale('log')\n",
    "title(\"Test data - Ireland\")\n",
    "for i, degree in enumerate(degrees):    \n",
    "    plt.scatter(X1_test, y1_test_pred[:, i], label=str(degree))\n",
    "    plt.legend(loc='upper left')"
   ]
  },
  {
   "cell_type": "code",
   "execution_count": 73,
   "id": "095d186e",
   "metadata": {},
   "outputs": [
    {
     "name": "stdout",
     "output_type": "stream",
     "text": [
      "R-squared values: \n",
      "\n",
      "Polynomial degree 1: train score=0.24, test score=0.44\n",
      "Polynomial degree 2: train score=0.64, test score=0.68\n",
      "Polynomial degree 3: train score=0.66, test score=0.41\n",
      "Polynomial degree 6: train score=0.83, test score=0.53\n",
      "Polynomial degree 10: train score=0.86, test score=-357.29\n",
      "Polynomial degree 20: train score=1.0, test score=-64859052424.77\n"
     ]
    }
   ],
   "source": [
    "# compare r2 for train and test sets (for all polynomial fits)\n",
    "print(\"R-squared values: \\n\")\n",
    "\n",
    "for i, degree in enumerate(degrees):\n",
    "    train_r2 = round(sklearn.metrics.r2_score(y1_train, y1_train_pred[:, i]), 2)\n",
    "    test_r2 = round(sklearn.metrics.r2_score(y1_test, y1_test_pred[:, i]), 2)\n",
    "    print(\"Polynomial degree {0}: train score={1}, test score={2}\".format(degree, \n",
    "                                                                         train_r2, \n",
    "                                                                         test_r2))"
   ]
  },
  {
   "cell_type": "markdown",
   "id": "4e0a1b39",
   "metadata": {},
   "source": [
    "#### Ridge Regression - All "
   ]
  },
  {
   "cell_type": "markdown",
   "id": "a0266cf1",
   "metadata": {},
   "source": [
    "Alpha 1"
   ]
  },
  {
   "cell_type": "code",
   "execution_count": 74,
   "id": "44a25e9c",
   "metadata": {},
   "outputs": [
    {
     "name": "stdout",
     "output_type": "stream",
     "text": [
      "Training set score: 0.21\n",
      "Test set score: 0.59\n"
     ]
    }
   ],
   "source": [
    "ridge = Ridge().fit(X_train, y_train)\n",
    "print(\"Training set score: {:.2f}\".format(ridge.score(X_train, y_train)))\n",
    "print(\"Test set score: {:.2f}\".format(ridge.score(X_test, y_test)))"
   ]
  },
  {
   "cell_type": "markdown",
   "id": "3d7cdb99",
   "metadata": {},
   "source": [
    "Alpha 10"
   ]
  },
  {
   "cell_type": "code",
   "execution_count": 75,
   "id": "313743fb",
   "metadata": {},
   "outputs": [
    {
     "name": "stdout",
     "output_type": "stream",
     "text": [
      "Training set score: 0.20\n",
      "Test set score: 0.53\n"
     ]
    }
   ],
   "source": [
    "ridge10 = Ridge(alpha = 10).fit(X_train, y_train)\n",
    "print(\"Training set score: {:.2f}\".format(ridge10.score(X_train, y_train)))\n",
    "print(\"Test set score: {:.2f}\".format(ridge10.score(X_test, y_test)))"
   ]
  },
  {
   "cell_type": "code",
   "execution_count": 76,
   "id": "32110b98",
   "metadata": {},
   "outputs": [
    {
     "name": "stdout",
     "output_type": "stream",
     "text": [
      "Training set score: 0.21\n",
      "Test set score: 0.60\n"
     ]
    }
   ],
   "source": [
    "ridge01 = Ridge(alpha=0.1).fit(X_train, y_train)\n",
    "print(\"Training set score: {:.2f}\".format(ridge01.score(X_train, y_train)))\n",
    "print(\"Test set score: {:.2f}\".format(ridge01.score(X_test, y_test)))"
   ]
  },
  {
   "cell_type": "markdown",
   "id": "bb89b815",
   "metadata": {},
   "source": [
    "#### Ridge Regression - Ireland"
   ]
  },
  {
   "cell_type": "code",
   "execution_count": 77,
   "id": "30ce92fd",
   "metadata": {},
   "outputs": [
    {
     "name": "stdout",
     "output_type": "stream",
     "text": [
      "Training set score: 0.24\n",
      "Test set score: 0.42\n"
     ]
    }
   ],
   "source": [
    "#Alpha 1\n",
    "ridge = Ridge().fit(X1_train, y1_train)\n",
    "print(\"Training set score: {:.2f}\".format(ridge.score(X1_train, y1_train)))\n",
    "print(\"Test set score: {:.2f}\".format(ridge.score(X1_test, y1_test)))"
   ]
  },
  {
   "cell_type": "code",
   "execution_count": 78,
   "id": "d4658912",
   "metadata": {},
   "outputs": [
    {
     "name": "stdout",
     "output_type": "stream",
     "text": [
      "Training set score: 0.21\n",
      "Test set score: 0.28\n"
     ]
    }
   ],
   "source": [
    "#Alpha 10\n",
    "ridge10 = Ridge(alpha = 10).fit(X1_train, y1_train)\n",
    "print(\"Training set score: {:.2f}\".format(ridge10.score(X1_train, y1_train)))\n",
    "print(\"Test set score: {:.2f}\".format(ridge10.score(X1_test, y1_test)))"
   ]
  },
  {
   "cell_type": "code",
   "execution_count": 79,
   "id": "1853b4d8",
   "metadata": {},
   "outputs": [
    {
     "name": "stdout",
     "output_type": "stream",
     "text": [
      "Training set score: 0.24\n",
      "Test set score: 0.44\n"
     ]
    }
   ],
   "source": [
    "#Alpha 0.1\n",
    "ridge01 = Ridge(alpha=0.1).fit(X1_train, y1_train)\n",
    "print(\"Training set score: {:.2f}\".format(ridge01.score(X1_train, y1_train)))\n",
    "print(\"Test set score: {:.2f}\".format(ridge01.score(X1_test, y1_test)))"
   ]
  },
  {
   "cell_type": "markdown",
   "id": "209602cf",
   "metadata": {},
   "source": [
    "#### Lasso Regression - All"
   ]
  },
  {
   "cell_type": "code",
   "execution_count": 80,
   "id": "ce5fea72",
   "metadata": {},
   "outputs": [
    {
     "name": "stdout",
     "output_type": "stream",
     "text": [
      "Training set score: 0.21\n",
      "Test set score: 0.60\n",
      "Number of features used: 1\n"
     ]
    }
   ],
   "source": [
    "lasso = Lasso().fit(X_train, y_train)\n",
    "print(\"Training set score: {:.2f}\".format(lasso.score(X_train, y_train)))\n",
    "print(\"Test set score: {:.2f}\".format(lasso.score(X_test, y_test)))\n",
    "print(\"Number of features used: {}\".format(np.sum(lasso.coef_ != 0)))"
   ]
  },
  {
   "cell_type": "markdown",
   "id": "4818a6ab",
   "metadata": {},
   "source": [
    "#### Lasso Regression - Ireland"
   ]
  },
  {
   "cell_type": "code",
   "execution_count": 81,
   "id": "e1c6bfe0",
   "metadata": {},
   "outputs": [
    {
     "name": "stdout",
     "output_type": "stream",
     "text": [
      "Training set score: 0.24\n",
      "Test set score: 0.44\n",
      "Number of features used: 1\n"
     ]
    }
   ],
   "source": [
    "lasso = Lasso().fit(X1_train, y1_train)\n",
    "print(\"Training set score: {:.2f}\".format(lasso.score(X1_train, y1_train)))\n",
    "print(\"Test set score: {:.2f}\".format(lasso.score(X1_test, y1_test)))\n",
    "print(\"Number of features used: {}\".format(np.sum(lasso.coef_ != 0)))"
   ]
  },
  {
   "cell_type": "markdown",
   "id": "bbb54949",
   "metadata": {},
   "source": [
    "#### Testing Models\n"
   ]
  },
  {
   "cell_type": "code",
   "execution_count": null,
   "id": "c33eef69",
   "metadata": {},
   "outputs": [],
   "source": []
  }
 ],
 "metadata": {
  "kernelspec": {
   "display_name": "Python 3 (ipykernel)",
   "language": "python",
   "name": "python3"
  },
  "language_info": {
   "codemirror_mode": {
    "name": "ipython",
    "version": 3
   },
   "file_extension": ".py",
   "mimetype": "text/x-python",
   "name": "python",
   "nbconvert_exporter": "python",
   "pygments_lexer": "ipython3",
   "version": "3.10.4"
  }
 },
 "nbformat": 4,
 "nbformat_minor": 5
}
