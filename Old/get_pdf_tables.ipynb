{
 "cells": [
  {
   "cell_type": "code",
   "execution_count": 1,
   "id": "e4634c36-a2c5-429b-a249-1a9bc9c70e68",
   "metadata": {},
   "outputs": [],
   "source": [
    "from PyPDF2 import PdfReader"
   ]
  },
  {
   "cell_type": "code",
   "execution_count": 4,
   "id": "e8e73521-de26-4e4d-b479-257a8b70fbfd",
   "metadata": {},
   "outputs": [],
   "source": [
    "reader = PdfReader(\"apro_cp_esms_an1.pdf\")"
   ]
  },
  {
   "cell_type": "code",
   "execution_count": 19,
   "id": "f18dd282-f4ff-4bcc-9e86-8ef94e23fcc1",
   "metadata": {},
   "outputs": [],
   "source": [
    "page = reader.pages[145]\n",
    "# Pages 138 to Page 144"
   ]
  },
  {
   "cell_type": "code",
   "execution_count": 20,
   "id": "470f1bca-da2f-407d-88e5-3a824cd8970f",
   "metadata": {},
   "outputs": [
    {
     "name": "stdout",
     "output_type": "stream",
     "text": [
      " \n",
      " \n",
      " Annexes  \n",
      "146 Annua l Crop Statistics Handbook (2020 )  ANNEX  II - Instructions for data delivery  \n",
      "1. Working with Web -forms  \n",
      "The data need to be delivered to Eurostat by Edamis5 in Web -Forms.  \n",
      "1.1 CREATING WEB -FOR MS \n",
      "There are nine Web -Forms available (Table 1). The Web -Forms are used several times for each crop year for \n",
      "delivering the data for various dead lines. For each data transmission a new version of th e Web -Form needs to \n",
      "be created.  \n",
      "Table 1 . Web -Forms used in Annual Crop Statistics.  \n",
      "Web -Form name  Correspondence to  \n",
      "Regulation Table  National/Regional data  \n",
      "CROPROD_ARAAR  \n",
      "CROPROD_ARAPR  \n",
      "CROPROD_ARAHU  \n",
      "CROPROD_ARAYI  Table 1: Main arable crops  National data  \n",
      "CROPROD_ARAREGA  \n",
      "CROPROD_ARAREGP  Table 1: Main arable crops  Regional data  \n",
      "CROPROD_ARAVEG  Table 2: Vegetables  National data  \n",
      "CROPROD_ARAPER  Table 3: Permanent crops  National data  \n",
      "CROPROD_ARAUAA  Table 4: Main land use  National and regional data  \n",
      "Below are the steps necessary for creating a Web -Form (Figure 1):  \n",
      "1. Select the correct Web -Form needed in 'Dataset'  \n",
      "2. Select the correct crop year in 'Year'  \n",
      "3. Click 'Insert' at the bottom  \n",
      "                                                           \n",
      "5 https://webgate.ec.europa.eu/edamis  \n"
     ]
    }
   ],
   "source": [
    "print(page.extract_text())"
   ]
  },
  {
   "cell_type": "code",
   "execution_count": null,
   "id": "5bc26af4-6357-4dcd-8055-21e596f70222",
   "metadata": {},
   "outputs": [],
   "source": []
  }
 ],
 "metadata": {
  "kernelspec": {
   "display_name": "Python 3 (ipykernel)",
   "language": "python",
   "name": "python3"
  },
  "language_info": {
   "codemirror_mode": {
    "name": "ipython",
    "version": 3
   },
   "file_extension": ".py",
   "mimetype": "text/x-python",
   "name": "python",
   "nbconvert_exporter": "python",
   "pygments_lexer": "ipython3",
   "version": "3.10.4"
  }
 },
 "nbformat": 4,
 "nbformat_minor": 5
}
